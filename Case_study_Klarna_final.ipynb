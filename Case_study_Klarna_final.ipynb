{
 "cells": [
  {
   "cell_type": "markdown",
   "metadata": {},
   "source": [
    "# Imports:"
   ]
  },
  {
   "cell_type": "code",
   "execution_count": 1,
   "metadata": {},
   "outputs": [],
   "source": [
    "from warnings import simplefilter\n",
    "simplefilter(action='ignore', category=FutureWarning)\n",
    "\n",
    "import pandas as pd\n",
    "import numpy as np\n",
    "import scipy as sp\n",
    "import tensorflow as tf\n",
    "import random as rn\n",
    "import tensorflow.keras as keras\n",
    "import math\n",
    "\n",
    "from tensorflow.keras import backend as K\n",
    "from tensorflow.keras.layers import Dense, Input\n",
    "from tensorflow.keras.models import Model\n",
    "from tensorflow.keras import metrics, regularizers, optimizers\n",
    "\n",
    "\n",
    "#import sklearn.metrics \n",
    "\n",
    "import matplotlib.pyplot as plt\n",
    "import matplotlib as mpl\n",
    "\n",
    "# The size of the plots.\n",
    "mpl.rcParams['figure.figsize'] = (7,7)\n",
    "\n",
    "# To have the plots inside the notebook \"inlin\" should be True. \n",
    "# If \"inlin\" = False, then plots will pop out of the notebook\n",
    "inlin = True # True/False\n",
    "if inlin:\n",
    "    %matplotlib inline\n",
    "else:\n",
    "    %matplotlib \n",
    "\n",
    "from sklearn.metrics import *\n",
    "from sklearn.model_selection import KFold,StratifiedKFold\n",
    "from sklearn.preprocessing import StandardScaler\n",
    "from sklearn.decomposition import PCA"
   ]
  },
  {
   "cell_type": "markdown",
   "metadata": {},
   "source": [
    "# Defining our model framework and creating functions for validation:"
   ]
  },
  {
   "cell_type": "code",
   "execution_count": 2,
   "metadata": {},
   "outputs": [],
   "source": [
    "def pipline(inp_dim,\n",
    "            n_nod,\n",
    "            act_fun = 'relu',\n",
    "            out_act_fun = 'sigmoid',\n",
    "            opt_method = 'Adam',\n",
    "            cost_fun = 'binary_crossentropy',\n",
    "            lr_rate = 0.01, \n",
    "            lambd = 0.0, \n",
    "            num_out = None):\n",
    "    \n",
    "    lays = [inp_dim] + n_nod\n",
    "    \n",
    "    main_input = Input(shape=(inp_dim,), dtype='float32', name='main_input')\n",
    "    \n",
    "    X = main_input\n",
    "    for nod in n_nod:\n",
    "        X = Dense(nod, \n",
    "                  activation = act_fun,\n",
    "                  kernel_regularizer=regularizers.l2(lambd))(X)\n",
    "        \n",
    "    output = Dense(num_out, activation = out_act_fun )(X)\n",
    "    \n",
    "    method = getattr(optimizers, opt_method)\n",
    "    \n",
    "    model =  Model(inputs=[main_input], outputs=[output])\n",
    "    model.compile(optimizer = method(lr = lr_rate, clipnorm = 1.0),\n",
    "                  loss = cost_fun,\n",
    "                  metrics=['accuracy', 'mse'])   \n",
    "    \n",
    "    return model"
   ]
  },
  {
   "cell_type": "code",
   "execution_count": 3,
   "metadata": {},
   "outputs": [],
   "source": [
    "def stats_class(x = None, y = None, label = 'Training', modl = None):\n",
    "    \"\"\"\n",
    "    input :  \n",
    "             x = input\n",
    "             y = output\n",
    "             label = \"Provided text string\"\n",
    "             modl = the model\n",
    "             \n",
    "    output : \n",
    "             sensitivity = fraction of correctly classified positive cases\n",
    "             specificity = fraction of correctly classified negative cases\n",
    "             accuracy = fraction of correctly classified cases\n",
    "             loss = typically the cross-entropy error\n",
    "    \"\"\"\n",
    "    \n",
    "    def binary(y1):\n",
    "        y1[y1>.5] = 1.\n",
    "        y1[y1<= .5] = 0.        \n",
    "        return y1\n",
    "\n",
    "    y_pr = modl.predict(x, batch_size = x.shape[0], verbose=0).reshape(y.shape)\n",
    "                \n",
    "    nof_p, tp, nof_n, tn = [np.count_nonzero(k) for k in [y==1, y_pr[y==1.] > 0.5, y==0, y_pr[y==0.]<= 0.5]]\n",
    "    \n",
    "    sens = tp / nof_p\n",
    "    spec = tn / nof_n\n",
    "    acc = (tp + tn) / (len(y))\n",
    "    loss = modl.evaluate(x, y , batch_size =  x.shape[0], verbose=0)\n",
    "                \n",
    "    A = ['Accuracy', 'Sensitivity', 'Specificity', 'Loss']\n",
    "    B = [acc, sens, spec, loss[0]]\n",
    "    \n",
    "    print('\\n','#'*10,'STATISTICS for {} Data'.format(label), '#'*10, '\\n')\n",
    "    for r in zip(A,B):\n",
    "         print(*r, sep = '   ')\n",
    "    return print('\\n','#'*50), acc"
   ]
  },
  {
   "cell_type": "markdown",
   "metadata": {},
   "source": [
    "# Dividing our data into sets:"
   ]
  },
  {
   "cell_type": "code",
   "execution_count": 19,
   "metadata": {},
   "outputs": [
    {
     "name": "stdout",
     "output_type": "stream",
     "text": [
      "89976\n",
      "nan\n",
      "0.0\n"
     ]
    }
   ],
   "source": [
    "dataset = pd.read_csv('/Users/karltengelin/Documents/import_dataset_new.csv', delimiter = ';')\n",
    "\n",
    "#Here we want to see where our prediction set starts (the set of data containing the pd:s we don't know)\n",
    "count = 0 \n",
    "for i in range(len(dataset)):\n",
    "    if math.isnan(dataset.iloc[i]['default']):\n",
    "        break\n",
    "    count+=1\n",
    "    \n",
    "#Just to make sure we have found the start of our prediction set    \n",
    "print(count)\n",
    "print(dataset.iloc[count]['default'])\n",
    "print(dataset.iloc[count-1]['default'])\n",
    "\n",
    "#Training set and labels\n",
    "#Set\n",
    "t_dat = dataset.loc[1:count-1]\n",
    "x_train = t_dat\n",
    "#Labels\n",
    "train_labels = t_dat['default'].values\n",
    "d_train = train_labels\n",
    "\n",
    "#Prediction set\n",
    "p_dat = dataset.loc[count:len(dataset)]\n",
    "x_pred = p_dat"
   ]
  },
  {
   "cell_type": "markdown",
   "metadata": {},
   "source": [
    "# Removing unwanted columns (here we choose ONE of the following cells to run):"
   ]
  },
  {
   "cell_type": "markdown",
   "metadata": {},
   "source": [
    "## Trying to remove as few columns as possible (this cell was used to produce the attached CSV-file):"
   ]
  },
  {
   "cell_type": "code",
   "execution_count": 20,
   "metadata": {},
   "outputs": [],
   "source": [
    "#train set\n",
    "x_train = x_train.drop(labels=['default', 'uuid', 'merchant_category','merchant_group', 'name_in_email', ], axis = 1)\n",
    "x_train = x_train.values\n",
    "\n",
    "#prediction set\n",
    "x_pred = x_pred.drop(labels=['default', 'uuid', 'merchant_category','merchant_group', 'name_in_email', ], axis = 1)\n",
    "x_pred = x_pred.values"
   ]
  },
  {
   "cell_type": "markdown",
   "metadata": {},
   "source": [
    "## Removing columns that contain more than 50% NaN values:"
   ]
  },
  {
   "cell_type": "code",
   "execution_count": null,
   "metadata": {},
   "outputs": [],
   "source": [
    "#train set\n",
    "x_train = x_train.drop(labels=['default', 'uuid', 'merchant_category','merchant_group', 'name_in_email', \n",
    "                               'account_incoming_debt_vs_paid_0_24m', 'account_status', \n",
    "                               'account_worst_status_0_3m', 'account_worst_status_12_24m', \n",
    "                               'account_worst_status_3_6m', 'account_worst_status_6_12m', \n",
    "                               'avg_payment_span_0_3m', 'worst_status_active_inv'], axis = 1)\n",
    "x_train = x_train.values\n",
    "\n",
    "#prediction set\n",
    "x_pred = x_pred.drop(labels=['default', 'uuid', 'merchant_category','merchant_group', 'name_in_email', \n",
    "                               'account_incoming_debt_vs_paid_0_24m', 'account_status', \n",
    "                               'account_worst_status_0_3m', 'account_worst_status_12_24m', \n",
    "                               'account_worst_status_3_6m', 'account_worst_status_6_12m', \n",
    "                               'avg_payment_span_0_3m', 'worst_status_active_inv'], axis = 1)\n",
    "x_pred = x_pred.values"
   ]
  },
  {
   "cell_type": "markdown",
   "metadata": {},
   "source": [
    "## Normalizing input data to have zero mean and unit variance:"
   ]
  },
  {
   "cell_type": "code",
   "execution_count": 21,
   "metadata": {},
   "outputs": [],
   "source": [
    "x_train = StandardScaler().fit_transform(x_train)"
   ]
  },
  {
   "cell_type": "markdown",
   "metadata": {},
   "source": [
    "# Training our MLP model and using K-fold cross validation to ensure generalization:"
   ]
  },
  {
   "cell_type": "code",
   "execution_count": 22,
   "metadata": {},
   "outputs": [
    {
     "name": "stdout",
     "output_type": "stream",
     "text": [
      "K-fold 1 of 10\n",
      "\n",
      " ########## STATISTICS for Training Data ########## \n",
      "\n",
      "Accuracy   0.9856625955518233\n",
      "Sensitivity   0.04013663535439795\n",
      "Specificity   0.9995363757110994\n",
      "Loss   0.05982979014515877\n",
      "\n",
      " ##################################################\n",
      "\n",
      " ########## STATISTICS for Validation Data ########## \n",
      "\n",
      "Accuracy   0.9865525672371638\n",
      "Sensitivity   0.02564102564102564\n",
      "Specificity   0.9992118004729197\n",
      "Loss   0.05389457568526268\n",
      "\n",
      " ##################################################\n",
      "K-fold 2 of 10\n",
      "\n",
      " ########## STATISTICS for Training Data ########## \n",
      "\n",
      "Accuracy   0.9857243414796795\n",
      "Sensitivity   0.037132987910189985\n",
      "Specificity   0.9994863378393616\n",
      "Loss   0.05922059342265129\n",
      "\n",
      " ##################################################\n",
      "\n",
      " ########## STATISTICS for Validation Data ########## \n",
      "\n",
      "Accuracy   0.9849966659257613\n",
      "Sensitivity   0.007692307692307693\n",
      "Specificity   0.9993234100135318\n",
      "Loss   0.06265977025032043\n",
      "\n",
      " ##################################################\n",
      "K-fold 3 of 10\n",
      "\n",
      " ########## STATISTICS for Training Data ########## \n",
      "\n",
      "Accuracy   0.9857490398508219\n",
      "Sensitivity   0.04561101549053356\n",
      "Specificity   0.9994361962037211\n",
      "Loss   0.05849757418036461\n",
      "\n",
      " ##################################################\n",
      "\n",
      " ########## STATISTICS for Validation Data ########## \n",
      "\n",
      "Accuracy   0.9857746165814626\n",
      "Sensitivity   0.031746031746031744\n",
      "Specificity   0.9993237150586114\n",
      "Loss   0.05837005376815796\n",
      "\n",
      " ##################################################\n",
      "K-fold 4 of 10\n",
      "\n",
      " ########## STATISTICS for Training Data ########## \n",
      "\n",
      "Accuracy   0.9856872939229658\n",
      "Sensitivity   0.04188034188034188\n",
      "Specificity   0.9995238512912401\n",
      "Loss   0.058852311223745346\n",
      "\n",
      " ##################################################\n",
      "\n",
      " ########## STATISTICS for Validation Data ########## \n",
      "\n",
      "Accuracy   0.9862191598132919\n",
      "Sensitivity   0.00847457627118644\n",
      "Specificity   0.9992117117117117\n",
      "Loss   0.058865632861852646\n",
      "\n",
      " ##################################################\n",
      "K-fold 5 of 10\n",
      "\n",
      " ########## STATISTICS for Training Data ########## \n",
      "\n",
      "Accuracy   0.9857366906652506\n",
      "Sensitivity   0.03773584905660377\n",
      "Specificity   0.9995865231609677\n",
      "Loss   0.058635562658309937\n",
      "\n",
      " ##################################################\n",
      "\n",
      " ########## STATISTICS for Validation Data ########## \n",
      "\n",
      "Accuracy   0.9865525672371638\n",
      "Sensitivity   0.02459016393442623\n",
      "Specificity   0.9997746732762506\n",
      "Loss   0.06005041301250458\n",
      "\n",
      " ##################################################\n",
      "K-fold 6 of 10\n",
      "\n",
      " ########## STATISTICS for Training Data ########## \n",
      "\n",
      "Accuracy   0.9859344513324607\n",
      "Sensitivity   0.05349439171699741\n",
      "Specificity   0.9994738094939801\n",
      "Loss   0.05774030461907387\n",
      "\n",
      " ##################################################\n",
      "\n",
      " ########## STATISTICS for Validation Data ########## \n",
      "\n",
      "Accuracy   0.9855507391352674\n",
      "Sensitivity   0.023255813953488372\n",
      "Specificity   0.9995489400090212\n",
      "Loss   0.06239326298236847\n",
      "\n",
      " ##################################################\n",
      "K-fold 7 of 10\n",
      "\n",
      " ########## STATISTICS for Training Data ########## \n",
      "\n",
      "Accuracy   0.9856380745387636\n",
      "Sensitivity   0.03832752613240418\n",
      "Specificity   0.9992609294751347\n",
      "Loss   0.06051286682486534\n",
      "\n",
      " ##################################################\n",
      "\n",
      " ########## STATISTICS for Validation Data ########## \n",
      "\n",
      "Accuracy   0.9844392575302878\n",
      "Sensitivity   0.05714285714285714\n",
      "Specificity   0.9990967596251552\n",
      "Loss   0.0648949146270752\n",
      "\n",
      " ##################################################\n",
      "K-fold 8 of 10\n",
      "\n",
      " ########## STATISTICS for Training Data ########## \n",
      "\n",
      "Accuracy   0.9859591493986021\n",
      "Sensitivity   0.03836094158674804\n",
      "Specificity   0.999574100286856\n",
      "Loss   0.05828280374407768\n",
      "\n",
      " ##################################################\n",
      "\n",
      " ########## STATISTICS for Validation Data ########## \n",
      "\n",
      "Accuracy   0.9841058130487941\n",
      "Sensitivity   0.02127659574468085\n",
      "Specificity   0.9994354110207768\n",
      "Loss   0.06262862682342529\n",
      "\n",
      " ##################################################\n",
      "K-fold 9 of 10\n",
      "\n",
      " ########## STATISTICS for Training Data ########## \n",
      "\n",
      "Accuracy   0.9854898861419151\n",
      "Sensitivity   0.03189655172413793\n",
      "Specificity   0.9993485178781728\n",
      "Loss   0.059596192091703415\n",
      "\n",
      " ##################################################\n",
      "\n",
      " ########## STATISTICS for Validation Data ########## \n",
      "\n",
      "Accuracy   0.9854395909747694\n",
      "Sensitivity   0.0234375\n",
      "Specificity   0.9993234863005976\n",
      "Loss   0.059837620705366135\n",
      "\n",
      " ##################################################\n",
      "K-fold 10 of 10\n",
      "\n",
      " ########## STATISTICS for Training Data ########## \n",
      "\n",
      "Accuracy   0.9856627726049051\n",
      "Sensitivity   0.03475238922675934\n",
      "Specificity   0.9993736455084119\n",
      "Loss   0.05886327102780342\n",
      "\n",
      " ##################################################\n",
      "\n",
      " ########## STATISTICS for Validation Data ########## \n",
      "\n",
      "Accuracy   0.9846615538512837\n",
      "Sensitivity   0.043795620437956206\n",
      "Specificity   0.9992099322799097\n",
      "Loss   0.06366623193025589\n",
      "\n",
      " ##################################################\n"
     ]
    },
    {
     "data": {
      "image/png": "[encoded data removed]",
      "text/plain": [
       "<Figure size 432x288 with 1 Axes>"
      ]
     },
     "metadata": {
      "needs_background": "light"
     },
     "output_type": "display_data"
    },
    {
     "name": "stdout",
     "output_type": "stream",
     "text": [
      "CPU times: user 1h 38min 17s, sys: 2min 3s, total: 1h 40min 21s\n",
      "Wall time: 32min 50s\n"
     ]
    }
   ],
   "source": [
    "%%time\n",
    "\n",
    "#training our model\n",
    "scores_val = []\n",
    "scores_train = []\n",
    "iterat= 0\n",
    "K = 10 #meaning that we test on 0.9 of data and validate on 0.1\n",
    "cv = KFold(n_splits=K, random_state=42, shuffle=False)\n",
    "\n",
    "for train_index, test_index in cv.split(x_train):\n",
    "    print('K-fold ' + str(iterat+1) + ' of ' + str(K))\n",
    "    \n",
    "    x_t, x_val, d_t, d_val = x_train[train_index], x_train[test_index], d_train[train_index], d_train[test_index]\n",
    "\n",
    "    # Defining the network, cost function and minimization method\n",
    "    INPUT = {'inp_dim': x_t.shape[1],         \n",
    "             'n_nod': [30,30,30],                      #number of nodes in hidden layer (chosen arbitrary)\n",
    "             'act_fun': 'tanh',                        #activation functions for the hidden layer\n",
    "             'out_act_fun': 'sigmoid',                 #output activation function\n",
    "             'opt_method': 'Adam',                     #minimization method\n",
    "             'cost_fun': 'binary_crossentropy',        #error function\n",
    "             'lr_rate': 0.0005 ,                       #learningrate, this rate was chosen based on \n",
    "                                                       #training-and validation error plots\n",
    "             'num_out' : 1 }                           \n",
    "\n",
    "    # creating the model\n",
    "    model = pipline(**INPUT)\n",
    "\n",
    "    # Printing a summary of the model\n",
    "    #model.summary()\n",
    "\n",
    "    # Training the model\n",
    "    estimator = model.fit(x_t, d_t,\n",
    "                          epochs = 500,      \n",
    "                          validation_data=(x_val, d_val),\n",
    "                          batch_size = x_t.shape[0],        # Batch size = all data (batch learning)\n",
    "                          #batch_size=50,                   # Batch size for true SGD\n",
    "                          verbose = 0)\n",
    "\n",
    "    # Call the stats function to print out statistics for classification problems\n",
    "    _,acc_t = stats_class(x_t, d_t, 'Training', model)\n",
    "    _,acc_v = stats_class(x_val, d_val, 'Validation', model)\n",
    "    \n",
    "    # Append accuracy scores so we can validate results\n",
    "    scores_val.append(acc_v)\n",
    "    scores_train.append(acc_t)\n",
    "    \n",
    "    iterat+=1\n",
    "    if iterat == 10:\n",
    "        # Plotting the last learning curve as an example\n",
    "        plt.plot(estimator.history['loss'])\n",
    "        plt.plot(estimator.history['val_loss'])\n",
    "        plt.title('Model training')\n",
    "        plt.ylabel('training error')\n",
    "        plt.xlabel('epoch')\n",
    "        plt.legend(['train', 'validation'], loc=0)\n",
    "        plt.show()\n",
    "        #If we want to save the figure:\n",
    "        #plt.savefig('/Users/karltengelin/Documents/Train_val_error_case_study_klarna.png',format='png')\n",
    "\n",
    "   "
   ]
  },
  {
   "cell_type": "code",
   "execution_count": 23,
   "metadata": {},
   "outputs": [
    {
     "name": "stdout",
     "output_type": "stream",
     "text": [
      "Average validation accuracy: 0.9854292531335245\n",
      "Average training accuracy: 0.9857244295487189\n"
     ]
    }
   ],
   "source": [
    "print('Average validation accuracy: ' + str(np.mean(scores_val)))\n",
    "print('Average training accuracy: ' + str(np.mean(scores_train)))"
   ]
  },
  {
   "cell_type": "markdown",
   "metadata": {},
   "source": [
    "# Doing our prediction:"
   ]
  },
  {
   "cell_type": "code",
   "execution_count": 24,
   "metadata": {},
   "outputs": [],
   "source": [
    "#transforming to zero mean and unit variance\n",
    "x_pred = StandardScaler().fit_transform(x_pred)"
   ]
  },
  {
   "cell_type": "code",
   "execution_count": 25,
   "metadata": {},
   "outputs": [],
   "source": [
    "#prediction\n",
    "pred_labels = model.predict(x_pred)\n",
    "\n",
    "#matching our uuid:s to our labels and storing in csv-file\n",
    "uuid = dataset.iloc[count:len(dataset)]['uuid'].values\n",
    "\n",
    "listing = []\n",
    "for i in range(len(uuid)):\n",
    "    listing.append([uuid[i],pred_labels[i].item()])\n",
    "\n",
    "df = pd.DataFrame(listing)\n",
    "df.columns = [\"uuid\", \"pd\"]\n",
    "#csv_data = df.to_csv('/Users/karltengelin/Documents/probability_of_defaults.csv',index=False, sep=';')\n",
    "csv_data = df.to_csv(index=False, sep =';')"
   ]
  },
  {
   "cell_type": "code",
   "execution_count": 26,
   "metadata": {},
   "outputs": [
    {
     "name": "stdout",
     "output_type": "stream",
     "text": [
      "[0.99895036]\n",
      "[0.00031391]\n"
     ]
    }
   ],
   "source": [
    "print(max(pred_labels))\n",
    "print(min(pred_labels))\n",
    "#we see that we pass the sanity check of having values inbetween 0 and 1"
   ]
  },
  {
   "cell_type": "code",
   "execution_count": 29,
   "metadata": {},
   "outputs": [
    {
     "name": "stdout",
     "output_type": "stream",
     "text": [
      "[0.53991455]\n",
      "[0.65417755]\n",
      "[0.53218025]\n",
      "[0.60405356]\n",
      "[0.61388874]\n",
      "[0.67580533]\n",
      "[0.86604416]\n",
      "[0.9986354]\n",
      "[0.76589715]\n",
      "[0.74693835]\n",
      "[0.5728623]\n",
      "[0.75853]\n",
      "[0.5698374]\n",
      "[0.7698958]\n",
      "[0.59286046]\n",
      "[0.99895036]\n",
      "[0.75551945]\n",
      "Ratio of defaulted uuid:s in prediction set: 0.0017\n",
      "Ratio of defaulted uuid:s in test set: 0.014314928425357873\n"
     ]
    }
   ],
   "source": [
    "#Checking how many of our uuid:s that have a higher than 50% probability of default\n",
    "d50 = 0\n",
    "for i in pred_labels:\n",
    "    if i > 0.50:\n",
    "        print(i)\n",
    "        d50 +=1\n",
    "print('Ratio of defaulted uuid:s in prediction set: ' + str(d50/10000))\n",
    "print('Ratio of defaulted uuid:s in test set: ' + str(1288/89976))\n",
    "#These results are a bit worrying since a much smaller portion of the prediction set are thought to default, \n",
    "# this might be an indication that we need to create a one hot encoding for the \n",
    "# merchant_cathegory and merchant_group columns. If we lower the threshold to assuming that uuid:s with a pd > 15% \n",
    "# will default we get approximately the same default ratio (1.4-1.5%) as for the training set"
   ]
  },
  {
   "cell_type": "code",
   "execution_count": null,
   "metadata": {},
   "outputs": [],
   "source": [
    "#Comments:\n",
    "# I made a try without columns that contained to many missing values (>40%) and got the following \n",
    "# min_pred_labels and max_pred_labels: max[0.9990], min[0.0003]\n",
    "# The model seemed to produce similar results when not including low-quality columns as when they were included\n",
    "# hence we might as well keep them in the model.\n",
    "\n",
    "# One could try to use PCA to do a predictive model instead to see if we get different results \n",
    "# that could prove more realistic.\n",
    "# This would be a way of simplifying the problem, but since we got high train and \n",
    "# validation scores for our full dataset I opted to use the full dataset.\n",
    "# If one would want to use PCA the script following header 'PCA:' describes how to do PCA"
   ]
  },
  {
   "cell_type": "markdown",
   "metadata": {},
   "source": [
    "# ____________________________________________"
   ]
  },
  {
   "cell_type": "markdown",
   "metadata": {},
   "source": [
    "# PCA:"
   ]
  },
  {
   "cell_type": "code",
   "execution_count": 13,
   "metadata": {},
   "outputs": [
    {
     "data": {
      "text/plain": [
       "array([[-3.46166596e-01, -4.12499492e-02, -2.35266618e-01, ...,\n",
       "         1.09644057e-01, -4.28380119e-01, -1.19433870e-03],\n",
       "       [-3.46166596e-01, -4.12499492e-02, -2.35266618e-01, ...,\n",
       "         9.57808894e-01, -7.50296435e-01, -6.40949743e-01],\n",
       "       [-3.46166596e-01,  9.51595938e-04, -1.19735218e-03, ...,\n",
       "         3.19314970e+00,  8.24342626e-02, -6.40949743e-01],\n",
       "       ...,\n",
       "       [-3.46166596e-01, -4.12499492e-02, -2.35266618e-01, ...,\n",
       "         9.05386760e-02,  6.65031013e-01, -1.19433870e-03],\n",
       "       [-3.46166596e-01, -4.12499492e-02, -2.35266618e-01, ...,\n",
       "        -2.87273596e-01, -6.70286702e-01, -1.19433870e-03],\n",
       "       [-3.46166596e-01,  9.51595938e-04, -1.19735218e-03, ...,\n",
       "        -3.44544997e-01,  7.13511721e-01, -1.19433870e-03]])"
      ]
     },
     "execution_count": 13,
     "metadata": {},
     "output_type": "execute_result"
    }
   ],
   "source": [
    "x_train = x_train.drop(labels=['default', 'uuid', 'merchant_category','merchant_group', 'name_in_email', ], axis = 1)\n",
    "x_train = StandardScaler().fit_transform(x_train)\n",
    "\n",
    "#Extracting the 5 most principal components\n",
    "pca = PCA(n_components=5)\n",
    "principalComponents = pca.fit_transform(x_train)\n",
    "principalDf = pd.DataFrame(data = principalComponents\n",
    "             , columns = ['principal component 1', 'principal component 2', \n",
    "                          'principal component 3', 'principal component 4', \n",
    "                          'principal component 5'])\n",
    "print(principalDf)\n",
    "# We can then use principalDf the same way as we used training set in our model above\n",
    "# (and also we would need to do PCA on prediction set aswell)"
   ]
  }
 ],
 "metadata": {
  "kernelspec": {
   "display_name": "Python 3",
   "language": "python",
   "name": "python3"
  },
  "language_info": {
   "codemirror_mode": {
    "name": "ipython",
    "version": 3
   },
   "file_extension": ".py",
   "mimetype": "text/x-python",
   "name": "python",
   "nbconvert_exporter": "python",
   "pygments_lexer": "ipython3",
   "version": "3.7.6"
  }
 },
 "nbformat": 4,
 "nbformat_minor": 2
}
